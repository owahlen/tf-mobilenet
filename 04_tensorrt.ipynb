{
 "cells": [
  {
   "cell_type": "markdown",
   "source": [
    "## Convert the model to ONNX format"
   ],
   "metadata": {
    "collapsed": false,
    "pycharm": {
     "name": "#%% md\n"
    }
   }
  },
  {
   "cell_type": "code",
   "execution_count": 9,
   "metadata": {
    "collapsed": true
   },
   "outputs": [
    {
     "name": "stdout",
     "output_type": "stream",
     "text": [
      "2020-10-04 20:48:25.646147: I tensorflow/stream_executor/platform/default/dso_loader.cc:48] Successfully opened dynamic library libcudart.so.10.2\r\n",
      "2020-10-04 20:48:26,437 - WARNING - '--tag' not specified for saved_model. Using --tag serve\r\n",
      "2020-10-04 20:48:26.658669: I tensorflow/stream_executor/platform/default/dso_loader.cc:48] Successfully opened dynamic library libcuda.so.1\r\n",
      "2020-10-04 20:48:26.662605: I tensorflow/stream_executor/cuda/cuda_gpu_executor.cc:982] successful NUMA node read from SysFS had negative value (-1), but there must be at least one NUMA node, so returning NUMA node zero\r\n",
      "2020-10-04 20:48:26.663143: I tensorflow/core/common_runtime/gpu/gpu_device.cc:1716] Found device 0 with properties: \r\n",
      "pciBusID: 0000:42:00.0 name: GeForce RTX 2080 Ti computeCapability: 7.5\r\n",
      "coreClock: 1.65GHz coreCount: 68 deviceMemorySize: 10.76GiB deviceMemoryBandwidth: 573.69GiB/s\r\n",
      "2020-10-04 20:48:26.663162: I tensorflow/stream_executor/platform/default/dso_loader.cc:48] Successfully opened dynamic library libcudart.so.10.2\r\n",
      "2020-10-04 20:48:26.664183: I tensorflow/stream_executor/platform/default/dso_loader.cc:48] Successfully opened dynamic library libcublas.so.10\r\n",
      "2020-10-04 20:48:26.665523: I tensorflow/stream_executor/platform/default/dso_loader.cc:48] Successfully opened dynamic library libcufft.so.10\r\n",
      "2020-10-04 20:48:26.665680: I tensorflow/stream_executor/platform/default/dso_loader.cc:48] Successfully opened dynamic library libcurand.so.10\r\n",
      "2020-10-04 20:48:26.666846: I tensorflow/stream_executor/platform/default/dso_loader.cc:48] Successfully opened dynamic library libcusolver.so.10\r\n",
      "2020-10-04 20:48:26.667486: I tensorflow/stream_executor/platform/default/dso_loader.cc:48] Successfully opened dynamic library libcusparse.so.10\r\n",
      "2020-10-04 20:48:26.667576: I tensorflow/stream_executor/platform/default/dso_loader.cc:48] Successfully opened dynamic library libcudnn.so.8\r\n",
      "2020-10-04 20:48:26.667691: I tensorflow/stream_executor/cuda/cuda_gpu_executor.cc:982] successful NUMA node read from SysFS had negative value (-1), but there must be at least one NUMA node, so returning NUMA node zero\r\n",
      "2020-10-04 20:48:26.668284: I tensorflow/stream_executor/cuda/cuda_gpu_executor.cc:982] successful NUMA node read from SysFS had negative value (-1), but there must be at least one NUMA node, so returning NUMA node zero\r\n",
      "2020-10-04 20:48:26.668787: I tensorflow/core/common_runtime/gpu/gpu_device.cc:1858] Adding visible gpu devices: 0\r\n",
      "2020-10-04 20:48:26.692733: I tensorflow/core/platform/profile_utils/cpu_utils.cc:104] CPU Frequency: 3399710000 Hz\r\n",
      "2020-10-04 20:48:26.694069: I tensorflow/compiler/xla/service/service.cc:168] XLA service 0x55a89d017460 initialized for platform Host (this does not guarantee that XLA will be used). Devices:\r\n",
      "2020-10-04 20:48:26.694119: I tensorflow/compiler/xla/service/service.cc:176]   StreamExecutor device (0): Host, Default Version\r\n",
      "2020-10-04 20:48:26.694396: I tensorflow/stream_executor/cuda/cuda_gpu_executor.cc:982] successful NUMA node read from SysFS had negative value (-1), but there must be at least one NUMA node, so returning NUMA node zero\r\n",
      "2020-10-04 20:48:26.695312: I tensorflow/core/common_runtime/gpu/gpu_device.cc:1716] Found device 0 with properties: \r\n",
      "pciBusID: 0000:42:00.0 name: GeForce RTX 2080 Ti computeCapability: 7.5\r\n",
      "coreClock: 1.65GHz coreCount: 68 deviceMemorySize: 10.76GiB deviceMemoryBandwidth: 573.69GiB/s\r\n",
      "2020-10-04 20:48:26.695350: I tensorflow/stream_executor/platform/default/dso_loader.cc:48] Successfully opened dynamic library libcudart.so.10.2\r\n",
      "2020-10-04 20:48:26.695377: I tensorflow/stream_executor/platform/default/dso_loader.cc:48] Successfully opened dynamic library libcublas.so.10\r\n",
      "2020-10-04 20:48:26.695394: I tensorflow/stream_executor/platform/default/dso_loader.cc:48] Successfully opened dynamic library libcufft.so.10\r\n",
      "2020-10-04 20:48:26.695410: I tensorflow/stream_executor/platform/default/dso_loader.cc:48] Successfully opened dynamic library libcurand.so.10\r\n",
      "2020-10-04 20:48:26.695426: I tensorflow/stream_executor/platform/default/dso_loader.cc:48] Successfully opened dynamic library libcusolver.so.10\r\n",
      "2020-10-04 20:48:26.695441: I tensorflow/stream_executor/platform/default/dso_loader.cc:48] Successfully opened dynamic library libcusparse.so.10\r\n",
      "2020-10-04 20:48:26.695457: I tensorflow/stream_executor/platform/default/dso_loader.cc:48] Successfully opened dynamic library libcudnn.so.8\r\n",
      "2020-10-04 20:48:26.695533: I tensorflow/stream_executor/cuda/cuda_gpu_executor.cc:982] successful NUMA node read from SysFS had negative value (-1), but there must be at least one NUMA node, so returning NUMA node zero\r\n",
      "2020-10-04 20:48:26.696443: I tensorflow/stream_executor/cuda/cuda_gpu_executor.cc:982] successful NUMA node read from SysFS had negative value (-1), but there must be at least one NUMA node, so returning NUMA node zero\r\n",
      "2020-10-04 20:48:26.697278: I tensorflow/core/common_runtime/gpu/gpu_device.cc:1858] Adding visible gpu devices: 0\r\n",
      "2020-10-04 20:48:26.697315: I tensorflow/stream_executor/platform/default/dso_loader.cc:48] Successfully opened dynamic library libcudart.so.10.2\r\n",
      "2020-10-04 20:48:27.504741: I tensorflow/core/common_runtime/gpu/gpu_device.cc:1257] Device interconnect StreamExecutor with strength 1 edge matrix:\r\n",
      "2020-10-04 20:48:27.504787: I tensorflow/core/common_runtime/gpu/gpu_device.cc:1263]      0 \r\n",
      "2020-10-04 20:48:27.504792: I tensorflow/core/common_runtime/gpu/gpu_device.cc:1276] 0:   N \r\n",
      "2020-10-04 20:48:27.505021: I tensorflow/stream_executor/cuda/cuda_gpu_executor.cc:982] successful NUMA node read from SysFS had negative value (-1), but there must be at least one NUMA node, so returning NUMA node zero\r\n",
      "2020-10-04 20:48:27.505612: I tensorflow/stream_executor/cuda/cuda_gpu_executor.cc:982] successful NUMA node read from SysFS had negative value (-1), but there must be at least one NUMA node, so returning NUMA node zero\r\n",
      "2020-10-04 20:48:27.506117: I tensorflow/stream_executor/cuda/cuda_gpu_executor.cc:982] successful NUMA node read from SysFS had negative value (-1), but there must be at least one NUMA node, so returning NUMA node zero\r\n",
      "2020-10-04 20:48:27.506606: I tensorflow/core/common_runtime/gpu/gpu_device.cc:1402] Created TensorFlow device (/job:localhost/replica:0/task:0/device:GPU:0 with 9798 MB memory) -> physical GPU (device: 0, name: GeForce RTX 2080 Ti, pci bus id: 0000:42:00.0, compute capability: 7.5)\r\n",
      "2020-10-04 20:48:27.508613: I tensorflow/compiler/xla/service/service.cc:168] XLA service 0x55a8b21263e0 initialized for platform CUDA (this does not guarantee that XLA will be used). Devices:\r\n",
      "2020-10-04 20:48:27.508629: I tensorflow/compiler/xla/service/service.cc:176]   StreamExecutor device (0): GeForce RTX 2080 Ti, Compute Capability 7.5\r\n",
      "2020-10-04 20:48:31,887 - INFO - Signatures found in model: [serving_default].\r\n",
      "2020-10-04 20:48:31,887 - WARNING - '--signature_def' not specified, using first signature: serving_default\r\n",
      "2020-10-04 20:48:31.902372: I tensorflow/stream_executor/cuda/cuda_gpu_executor.cc:982] successful NUMA node read from SysFS had negative value (-1), but there must be at least one NUMA node, so returning NUMA node zero\r\n",
      "2020-10-04 20:48:31.902663: I tensorflow/core/grappler/devices.cc:69] Number of eligible GPUs (core count >= 8, compute capability >= 0.0): 1\r\n",
      "2020-10-04 20:48:31.902776: I tensorflow/core/grappler/clusters/single_machine.cc:356] Starting new session\r\n",
      "2020-10-04 20:48:31.903245: I tensorflow/stream_executor/cuda/cuda_gpu_executor.cc:982] successful NUMA node read from SysFS had negative value (-1), but there must be at least one NUMA node, so returning NUMA node zero\r\n",
      "2020-10-04 20:48:31.903480: I tensorflow/core/common_runtime/gpu/gpu_device.cc:1716] Found device 0 with properties: \r\n",
      "pciBusID: 0000:42:00.0 name: GeForce RTX 2080 Ti computeCapability: 7.5\r\n",
      "coreClock: 1.65GHz coreCount: 68 deviceMemorySize: 10.76GiB deviceMemoryBandwidth: 573.69GiB/s\r\n",
      "2020-10-04 20:48:31.903509: I tensorflow/stream_executor/platform/default/dso_loader.cc:48] Successfully opened dynamic library libcudart.so.10.2\r\n",
      "2020-10-04 20:48:31.903531: I tensorflow/stream_executor/platform/default/dso_loader.cc:48] Successfully opened dynamic library libcublas.so.10\r\n",
      "2020-10-04 20:48:31.903542: I tensorflow/stream_executor/platform/default/dso_loader.cc:48] Successfully opened dynamic library libcufft.so.10\r\n",
      "2020-10-04 20:48:31.903552: I tensorflow/stream_executor/platform/default/dso_loader.cc:48] Successfully opened dynamic library libcurand.so.10\r\n",
      "2020-10-04 20:48:31.903563: I tensorflow/stream_executor/platform/default/dso_loader.cc:48] Successfully opened dynamic library libcusolver.so.10\r\n",
      "2020-10-04 20:48:31.903572: I tensorflow/stream_executor/platform/default/dso_loader.cc:48] Successfully opened dynamic library libcusparse.so.10\r\n",
      "2020-10-04 20:48:31.903583: I tensorflow/stream_executor/platform/default/dso_loader.cc:48] Successfully opened dynamic library libcudnn.so.8\r\n",
      "2020-10-04 20:48:31.903628: I tensorflow/stream_executor/cuda/cuda_gpu_executor.cc:982] successful NUMA node read from SysFS had negative value (-1), but there must be at least one NUMA node, so returning NUMA node zero\r\n",
      "2020-10-04 20:48:31.903884: I tensorflow/stream_executor/cuda/cuda_gpu_executor.cc:982] successful NUMA node read from SysFS had negative value (-1), but there must be at least one NUMA node, so returning NUMA node zero\r\n",
      "2020-10-04 20:48:31.904100: I tensorflow/core/common_runtime/gpu/gpu_device.cc:1858] Adding visible gpu devices: 0\r\n",
      "2020-10-04 20:48:31.904131: I tensorflow/core/common_runtime/gpu/gpu_device.cc:1257] Device interconnect StreamExecutor with strength 1 edge matrix:\r\n",
      "2020-10-04 20:48:31.904139: I tensorflow/core/common_runtime/gpu/gpu_device.cc:1263]      0 \r\n",
      "2020-10-04 20:48:31.904147: I tensorflow/core/common_runtime/gpu/gpu_device.cc:1276] 0:   N \r\n",
      "2020-10-04 20:48:31.904220: I tensorflow/stream_executor/cuda/cuda_gpu_executor.cc:982] successful NUMA node read from SysFS had negative value (-1), but there must be at least one NUMA node, so returning NUMA node zero\r\n",
      "2020-10-04 20:48:31.904490: I tensorflow/stream_executor/cuda/cuda_gpu_executor.cc:982] successful NUMA node read from SysFS had negative value (-1), but there must be at least one NUMA node, so returning NUMA node zero\r\n",
      "2020-10-04 20:48:31.904712: I tensorflow/core/common_runtime/gpu/gpu_device.cc:1402] Created TensorFlow device (/job:localhost/replica:0/task:0/device:GPU:0 with 9798 MB memory) -> physical GPU (device: 0, name: GeForce RTX 2080 Ti, pci bus id: 0000:42:00.0, compute capability: 7.5)\r\n",
      "2020-10-04 20:48:31.944753: I tensorflow/core/grappler/optimizers/meta_optimizer.cc:816] Optimization results for grappler item: graph_to_optimize\r\n",
      "2020-10-04 20:48:31.944801: I tensorflow/core/grappler/optimizers/meta_optimizer.cc:818]   function_optimizer: Graph size after: 989 nodes (724), 964 edges (699), time = 17.589ms.\r\n",
      "2020-10-04 20:48:31.944808: I tensorflow/core/grappler/optimizers/meta_optimizer.cc:818]   function_optimizer: function_optimizer did nothing. time = 0.487ms.\r\n",
      "2020-10-04 20:48:32.744624: I tensorflow/stream_executor/cuda/cuda_gpu_executor.cc:982] successful NUMA node read from SysFS had negative value (-1), but there must be at least one NUMA node, so returning NUMA node zero\r\n",
      "2020-10-04 20:48:32.744942: I tensorflow/core/common_runtime/gpu/gpu_device.cc:1716] Found device 0 with properties: \r\n",
      "pciBusID: 0000:42:00.0 name: GeForce RTX 2080 Ti computeCapability: 7.5\r\n",
      "coreClock: 1.65GHz coreCount: 68 deviceMemorySize: 10.76GiB deviceMemoryBandwidth: 573.69GiB/s\r\n",
      "2020-10-04 20:48:32.744974: I tensorflow/stream_executor/platform/default/dso_loader.cc:48] Successfully opened dynamic library libcudart.so.10.2\r\n",
      "2020-10-04 20:48:32.744998: I tensorflow/stream_executor/platform/default/dso_loader.cc:48] Successfully opened dynamic library libcublas.so.10\r\n",
      "2020-10-04 20:48:32.745010: I tensorflow/stream_executor/platform/default/dso_loader.cc:48] Successfully opened dynamic library libcufft.so.10\r\n",
      "2020-10-04 20:48:32.745020: I tensorflow/stream_executor/platform/default/dso_loader.cc:48] Successfully opened dynamic library libcurand.so.10\r\n",
      "2020-10-04 20:48:32.745031: I tensorflow/stream_executor/platform/default/dso_loader.cc:48] Successfully opened dynamic library libcusolver.so.10\r\n",
      "2020-10-04 20:48:32.745042: I tensorflow/stream_executor/platform/default/dso_loader.cc:48] Successfully opened dynamic library libcusparse.so.10\r\n",
      "2020-10-04 20:48:32.745053: I tensorflow/stream_executor/platform/default/dso_loader.cc:48] Successfully opened dynamic library libcudnn.so.8\r\n",
      "2020-10-04 20:48:32.745098: I tensorflow/stream_executor/cuda/cuda_gpu_executor.cc:982] successful NUMA node read from SysFS had negative value (-1), but there must be at least one NUMA node, so returning NUMA node zero\r\n",
      "2020-10-04 20:48:32.745353: I tensorflow/stream_executor/cuda/cuda_gpu_executor.cc:982] successful NUMA node read from SysFS had negative value (-1), but there must be at least one NUMA node, so returning NUMA node zero\r\n",
      "2020-10-04 20:48:32.745568: I tensorflow/core/common_runtime/gpu/gpu_device.cc:1858] Adding visible gpu devices: 0\r\n",
      "2020-10-04 20:48:32.745600: I tensorflow/core/common_runtime/gpu/gpu_device.cc:1257] Device interconnect StreamExecutor with strength 1 edge matrix:\r\n",
      "2020-10-04 20:48:32.745606: I tensorflow/core/common_runtime/gpu/gpu_device.cc:1263]      0 \r\n",
      "2020-10-04 20:48:32.745617: I tensorflow/core/common_runtime/gpu/gpu_device.cc:1276] 0:   N \r\n",
      "2020-10-04 20:48:32.745685: I tensorflow/stream_executor/cuda/cuda_gpu_executor.cc:982] successful NUMA node read from SysFS had negative value (-1), but there must be at least one NUMA node, so returning NUMA node zero\r\n",
      "2020-10-04 20:48:32.745944: I tensorflow/stream_executor/cuda/cuda_gpu_executor.cc:982] successful NUMA node read from SysFS had negative value (-1), but there must be at least one NUMA node, so returning NUMA node zero\r\n",
      "2020-10-04 20:48:32.746171: I tensorflow/core/common_runtime/gpu/gpu_device.cc:1402] Created TensorFlow device (/job:localhost/replica:0/task:0/device:GPU:0 with 9798 MB memory) -> physical GPU (device: 0, name: GeForce RTX 2080 Ti, pci bus id: 0000:42:00.0, compute capability: 7.5)\r\n",
      "WARNING:tensorflow:From /home/owahlen/anaconda3/envs/trt2/lib/python3.7/site-packages/tf2onnx/tf_loader.py:368: extract_sub_graph (from tensorflow.python.framework.graph_util_impl) is deprecated and will be removed in a future version.\r\n",
      "Instructions for updating:\r\n",
      "Use `tf.compat.v1.graph_util.extract_sub_graph`\r\n",
      "2020-10-04 20:48:32,854 - WARNING - From /home/owahlen/anaconda3/envs/trt2/lib/python3.7/site-packages/tf2onnx/tf_loader.py:368: extract_sub_graph (from tensorflow.python.framework.graph_util_impl) is deprecated and will be removed in a future version.\r\n",
      "Instructions for updating:\r\n",
      "Use `tf.compat.v1.graph_util.extract_sub_graph`\r\n",
      "2020-10-04 20:48:32.885674: I tensorflow/stream_executor/cuda/cuda_gpu_executor.cc:982] successful NUMA node read from SysFS had negative value (-1), but there must be at least one NUMA node, so returning NUMA node zero\r\n",
      "2020-10-04 20:48:32.885970: I tensorflow/core/grappler/devices.cc:69] Number of eligible GPUs (core count >= 8, compute capability >= 0.0): 1\r\n",
      "2020-10-04 20:48:32.886113: I tensorflow/core/grappler/clusters/single_machine.cc:356] Starting new session\r\n",
      "2020-10-04 20:48:32.886631: I tensorflow/stream_executor/cuda/cuda_gpu_executor.cc:982] successful NUMA node read from SysFS had negative value (-1), but there must be at least one NUMA node, so returning NUMA node zero\r\n",
      "2020-10-04 20:48:32.886864: I tensorflow/core/common_runtime/gpu/gpu_device.cc:1716] Found device 0 with properties: \r\n",
      "pciBusID: 0000:42:00.0 name: GeForce RTX 2080 Ti computeCapability: 7.5\r\n",
      "coreClock: 1.65GHz coreCount: 68 deviceMemorySize: 10.76GiB deviceMemoryBandwidth: 573.69GiB/s\r\n",
      "2020-10-04 20:48:32.886892: I tensorflow/stream_executor/platform/default/dso_loader.cc:48] Successfully opened dynamic library libcudart.so.10.2\r\n",
      "2020-10-04 20:48:32.886914: I tensorflow/stream_executor/platform/default/dso_loader.cc:48] Successfully opened dynamic library libcublas.so.10\r\n",
      "2020-10-04 20:48:32.886924: I tensorflow/stream_executor/platform/default/dso_loader.cc:48] Successfully opened dynamic library libcufft.so.10\r\n",
      "2020-10-04 20:48:32.886933: I tensorflow/stream_executor/platform/default/dso_loader.cc:48] Successfully opened dynamic library libcurand.so.10\r\n",
      "2020-10-04 20:48:32.886943: I tensorflow/stream_executor/platform/default/dso_loader.cc:48] Successfully opened dynamic library libcusolver.so.10\r\n",
      "2020-10-04 20:48:32.886952: I tensorflow/stream_executor/platform/default/dso_loader.cc:48] Successfully opened dynamic library libcusparse.so.10\r\n",
      "2020-10-04 20:48:32.886961: I tensorflow/stream_executor/platform/default/dso_loader.cc:48] Successfully opened dynamic library libcudnn.so.8\r\n",
      "2020-10-04 20:48:32.887005: I tensorflow/stream_executor/cuda/cuda_gpu_executor.cc:982] successful NUMA node read from SysFS had negative value (-1), but there must be at least one NUMA node, so returning NUMA node zero\r\n",
      "2020-10-04 20:48:32.887261: I tensorflow/stream_executor/cuda/cuda_gpu_executor.cc:982] successful NUMA node read from SysFS had negative value (-1), but there must be at least one NUMA node, so returning NUMA node zero\r\n",
      "2020-10-04 20:48:32.887477: I tensorflow/core/common_runtime/gpu/gpu_device.cc:1858] Adding visible gpu devices: 0\r\n",
      "2020-10-04 20:48:32.887508: I tensorflow/core/common_runtime/gpu/gpu_device.cc:1257] Device interconnect StreamExecutor with strength 1 edge matrix:\r\n",
      "2020-10-04 20:48:32.887515: I tensorflow/core/common_runtime/gpu/gpu_device.cc:1263]      0 \r\n",
      "2020-10-04 20:48:32.887522: I tensorflow/core/common_runtime/gpu/gpu_device.cc:1276] 0:   N \r\n",
      "2020-10-04 20:48:32.887589: I tensorflow/stream_executor/cuda/cuda_gpu_executor.cc:982] successful NUMA node read from SysFS had negative value (-1), but there must be at least one NUMA node, so returning NUMA node zero\r\n",
      "2020-10-04 20:48:32.887837: I tensorflow/stream_executor/cuda/cuda_gpu_executor.cc:982] successful NUMA node read from SysFS had negative value (-1), but there must be at least one NUMA node, so returning NUMA node zero\r\n",
      "2020-10-04 20:48:32.888062: I tensorflow/core/common_runtime/gpu/gpu_device.cc:1402] Created TensorFlow device (/job:localhost/replica:0/task:0/device:GPU:0 with 9798 MB memory) -> physical GPU (device: 0, name: GeForce RTX 2080 Ti, pci bus id: 0000:42:00.0, compute capability: 7.5)\r\n",
      "2020-10-04 20:48:32.992536: I tensorflow/core/grappler/optimizers/meta_optimizer.cc:816] Optimization results for grappler item: graph_to_optimize\r\n",
      "2020-10-04 20:48:32.992578: I tensorflow/core/grappler/optimizers/meta_optimizer.cc:818]   constant_folding: Graph size after: 431 nodes (-524), 440 edges (-524), time = 58.386ms.\r\n",
      "2020-10-04 20:48:32.992583: I tensorflow/core/grappler/optimizers/meta_optimizer.cc:818]   function_optimizer: function_optimizer did nothing. time = 0.945ms.\r\n",
      "2020-10-04 20:48:32.992587: I tensorflow/core/grappler/optimizers/meta_optimizer.cc:818]   constant_folding: Graph size after: 431 nodes (0), 440 edges (0), time = 12.726ms.\r\n",
      "2020-10-04 20:48:32.992592: I tensorflow/core/grappler/optimizers/meta_optimizer.cc:818]   function_optimizer: function_optimizer did nothing. time = 0.64ms.\r\n",
      "2020-10-04 20:48:33.143615: I tensorflow/stream_executor/cuda/cuda_gpu_executor.cc:982] successful NUMA node read from SysFS had negative value (-1), but there must be at least one NUMA node, so returning NUMA node zero\r\n",
      "2020-10-04 20:48:33.143915: I tensorflow/core/common_runtime/gpu/gpu_device.cc:1716] Found device 0 with properties: \r\n",
      "pciBusID: 0000:42:00.0 name: GeForce RTX 2080 Ti computeCapability: 7.5\r\n",
      "coreClock: 1.65GHz coreCount: 68 deviceMemorySize: 10.76GiB deviceMemoryBandwidth: 573.69GiB/s\r\n",
      "2020-10-04 20:48:33.143946: I tensorflow/stream_executor/platform/default/dso_loader.cc:48] Successfully opened dynamic library libcudart.so.10.2\r\n",
      "2020-10-04 20:48:33.143968: I tensorflow/stream_executor/platform/default/dso_loader.cc:48] Successfully opened dynamic library libcublas.so.10\r\n",
      "2020-10-04 20:48:33.143978: I tensorflow/stream_executor/platform/default/dso_loader.cc:48] Successfully opened dynamic library libcufft.so.10\r\n",
      "2020-10-04 20:48:33.143988: I tensorflow/stream_executor/platform/default/dso_loader.cc:48] Successfully opened dynamic library libcurand.so.10\r\n",
      "2020-10-04 20:48:33.143998: I tensorflow/stream_executor/platform/default/dso_loader.cc:48] Successfully opened dynamic library libcusolver.so.10\r\n",
      "2020-10-04 20:48:33.144008: I tensorflow/stream_executor/platform/default/dso_loader.cc:48] Successfully opened dynamic library libcusparse.so.10\r\n",
      "2020-10-04 20:48:33.144018: I tensorflow/stream_executor/platform/default/dso_loader.cc:48] Successfully opened dynamic library libcudnn.so.8\r\n",
      "2020-10-04 20:48:33.144063: I tensorflow/stream_executor/cuda/cuda_gpu_executor.cc:982] successful NUMA node read from SysFS had negative value (-1), but there must be at least one NUMA node, so returning NUMA node zero\r\n",
      "2020-10-04 20:48:33.144319: I tensorflow/stream_executor/cuda/cuda_gpu_executor.cc:982] successful NUMA node read from SysFS had negative value (-1), but there must be at least one NUMA node, so returning NUMA node zero\r\n",
      "2020-10-04 20:48:33.144553: I tensorflow/core/common_runtime/gpu/gpu_device.cc:1858] Adding visible gpu devices: 0\r\n",
      "2020-10-04 20:48:33.144586: I tensorflow/core/common_runtime/gpu/gpu_device.cc:1257] Device interconnect StreamExecutor with strength 1 edge matrix:\r\n",
      "2020-10-04 20:48:33.144593: I tensorflow/core/common_runtime/gpu/gpu_device.cc:1263]      0 \r\n",
      "2020-10-04 20:48:33.144600: I tensorflow/core/common_runtime/gpu/gpu_device.cc:1276] 0:   N \r\n",
      "2020-10-04 20:48:33.144672: I tensorflow/stream_executor/cuda/cuda_gpu_executor.cc:982] successful NUMA node read from SysFS had negative value (-1), but there must be at least one NUMA node, so returning NUMA node zero\r\n",
      "2020-10-04 20:48:33.144932: I tensorflow/stream_executor/cuda/cuda_gpu_executor.cc:982] successful NUMA node read from SysFS had negative value (-1), but there must be at least one NUMA node, so returning NUMA node zero\r\n",
      "2020-10-04 20:48:33.145160: I tensorflow/core/common_runtime/gpu/gpu_device.cc:1402] Created TensorFlow device (/job:localhost/replica:0/task:0/device:GPU:0 with 9798 MB memory) -> physical GPU (device: 0, name: GeForce RTX 2080 Ti, pci bus id: 0000:42:00.0, compute capability: 7.5)\r\n",
      "2020-10-04 20:48:33,145 - INFO - Using tensorflow=2.3.1, onnx=1.7.0, tf2onnx=1.6.3/d4abc8\r\n",
      "2020-10-04 20:48:33,145 - INFO - Using opset <onnx, 11>\r\n",
      "2020-10-04 20:48:35,346 - INFO - Optimizing ONNX model\r\n",
      "2020-10-04 20:48:39,333 - INFO - After optimization: BatchNormalization -45 (52->7), Cast -4 (4->0), Const -228 (358->130), Identity -5 (5->0), Reshape -21 (21->0), Transpose -227 (229->2)\r\n",
      "2020-10-04 20:48:39,346 - INFO - \r\n",
      "2020-10-04 20:48:39,346 - INFO - Successfully converted TensorFlow model saved_model/mobilenetv2 to ONNX\r\n",
      "2020-10-04 20:48:39,353 - INFO - ONNX model is saved at saved_model/mobilenetv2_ONNX/model.onnx\r\n"
     ]
    }
   ],
   "source": [
    "!python3 -m tf2onnx.convert --opset 11 --fold_const --saved-model saved_model/mobilenetv2 --output saved_model/mobilenetv2_ONNX/model.onnx"
   ]
  },
  {
   "cell_type": "markdown",
   "source": [
    "## Create a tensorrt engine"
   ],
   "metadata": {
    "collapsed": false,
    "pycharm": {
     "name": "#%% md\n"
    }
   }
  },
  {
   "cell_type": "code",
   "execution_count": 10,
   "outputs": [],
   "source": [
    "import logging\n",
    "\n",
    "import sys\n",
    "import tensorrt as trt\n",
    "\n",
    "from Calibrator import _Calibrator"
   ],
   "metadata": {
    "collapsed": false,
    "pycharm": {
     "name": "#%%\n"
    }
   }
  },
  {
   "cell_type": "code",
   "execution_count": 11,
   "outputs": [],
   "source": [
    "TRT_LOGGER = trt.Logger(trt.Logger.WARNING)\n",
    "logging.basicConfig(level=logging.DEBUG,\n",
    "                    format=\"%(asctime)s - %(name)s - %(levelname)s - %(message)s\",\n",
    "                    datefmt=\"%Y-%m-%d %H:%M:%S\")\n",
    "logger = logging.getLogger(__name__)"
   ],
   "metadata": {
    "collapsed": false,
    "pycharm": {
     "name": "#%%\n"
    }
   }
  },
  {
   "cell_type": "code",
   "execution_count": 12,
   "outputs": [],
   "source": [
    "def add_profiles(config, inputs, opt_profiles):\n",
    "    logger.debug(\"=== Optimization Profiles ===\")\n",
    "    for i, profile in enumerate(opt_profiles):\n",
    "        for inp in inputs:\n",
    "            _min, _opt, _max = profile.get_shape(inp.name)\n",
    "            logger.debug(\"{} - OptProfile {} - Min {} Opt {} Max {}\".format(inp.name, i, _min, _opt, _max))\n",
    "        config.add_optimization_profile(profile)"
   ],
   "metadata": {
    "collapsed": false,
    "pycharm": {
     "name": "#%%\n"
    }
   }
  },
  {
   "cell_type": "code",
   "execution_count": 13,
   "outputs": [],
   "source": [
    "def mark_outputs(network):\n",
    "    # Mark last layer's outputs if not already marked\n",
    "    # NOTE: This may not be correct in all cases\n",
    "    last_layer = network.get_layer(network.num_layers-1)\n",
    "    if not last_layer.num_outputs:\n",
    "        logger.error(\"Last layer contains no outputs.\")\n",
    "        return\n",
    "\n",
    "    for i in range(last_layer.num_outputs):\n",
    "        network.mark_output(last_layer.get_output(i))"
   ],
   "metadata": {
    "collapsed": false,
    "pycharm": {
     "name": "#%%\n"
    }
   }
  },
  {
   "cell_type": "code",
   "execution_count": 14,
   "outputs": [],
   "source": [
    "def check_network(network):\n",
    "    if not network.num_outputs:\n",
    "        logger.warning(\"No output nodes found, marking last layer's outputs as network outputs. Correct this if wrong.\")\n",
    "        mark_outputs(network)\n",
    "\n",
    "    inputs = [network.get_input(i) for i in range(network.num_inputs)]\n",
    "    outputs = [network.get_output(i) for i in range(network.num_outputs)]\n",
    "    max_len = max([len(inp.name) for inp in inputs] + [len(out.name) for out in outputs])\n",
    "\n",
    "    logger.debug(\"=== Network Description ===\")\n",
    "    for i, inp in enumerate(inputs):\n",
    "        logger.debug(\"Input  {0} | Name: {1:{2}} | Shape: {3}\".format(i, inp.name, max_len, inp.shape))\n",
    "    for i, out in enumerate(outputs):\n",
    "        logger.debug(\"Output {0} | Name: {1:{2}} | Shape: {3}\".format(i, out.name, max_len, out.shape))"
   ],
   "metadata": {
    "collapsed": false,
    "pycharm": {
     "name": "#%%\n"
    }
   }
  },
  {
   "cell_type": "code",
   "execution_count": 15,
   "outputs": [],
   "source": [
    "def create_optimization_profiles(builder, inputs, batch_sizes = None ):\n",
    "    # Check if all inputs are fixed explicit batch to create a single profile and avoid duplicates\n",
    "    if batch_sizes is None:\n",
    "        batch_sizes = [1,8,16,32,64]\n",
    "\n",
    "    if all([inp.shape[0] > -1 for inp in inputs]):\n",
    "        profile = builder.create_optimization_profile()\n",
    "        for inp in inputs:\n",
    "            fbs, shape = inp.shape[0], inp.shape[1:]\n",
    "            profile.set_shape(inp.name, min=(fbs, *shape), opt=(fbs, *shape), max=(fbs, *shape))\n",
    "            return [profile]\n",
    "\n",
    "    # Otherwise for mixed fixed+dynamic explicit batch inputs, create several profiles\n",
    "    profiles = {}\n",
    "    for bs in batch_sizes:\n",
    "        if not profiles.get(bs):\n",
    "            profiles[bs] = builder.create_optimization_profile()\n",
    "\n",
    "        for inp in inputs:\n",
    "            shape = inp.shape[1:]\n",
    "            # Check if fixed explicit batch\n",
    "            if inp.shape[0] > -1:\n",
    "                bs = inp.shape[0]\n",
    "\n",
    "            profiles[bs].set_shape(inp.name, min=(bs, *shape), opt=(bs, *shape), max=(bs, *shape))\n",
    "\n",
    "    return list(profiles.values())"
   ],
   "metadata": {
    "collapsed": false,
    "pycharm": {
     "name": "#%%\n"
    }
   }
  },
  {
   "cell_type": "code",
   "execution_count": 16,
   "outputs": [
    {
     "name": "stderr",
     "output_type": "stream",
     "text": [
      "2020-10-04 20:48:40 - __main__ - DEBUG - === Network Description ===\n",
      "2020-10-04 20:48:40 - __main__ - DEBUG - Input  0 | Name: image:0    | Shape: (-1, 160, 160, 3)\n",
      "2020-10-04 20:48:40 - __main__ - DEBUG - Output 0 | Name: Identity:0 | Shape: (-1, -1)\n",
      "2020-10-04 20:48:40 - __main__ - DEBUG - === Optimization Profiles ===\n",
      "2020-10-04 20:48:40 - __main__ - DEBUG - image:0 - OptProfile 0 - Min (1, 160, 160, 3) Opt (1, 160, 160, 3) Max (1, 160, 160, 3)\n",
      "2020-10-04 20:48:40 - __main__ - DEBUG - image:0 - OptProfile 1 - Min (8, 160, 160, 3) Opt (8, 160, 160, 3) Max (8, 160, 160, 3)\n",
      "2020-10-04 20:48:40 - __main__ - DEBUG - image:0 - OptProfile 2 - Min (16, 160, 160, 3) Opt (16, 160, 160, 3) Max (16, 160, 160, 3)\n",
      "2020-10-04 20:48:40 - __main__ - DEBUG - image:0 - OptProfile 3 - Min (32, 160, 160, 3) Opt (32, 160, 160, 3) Max (32, 160, 160, 3)\n",
      "2020-10-04 20:48:40 - __main__ - DEBUG - image:0 - OptProfile 4 - Min (64, 160, 160, 3) Opt (64, 160, 160, 3) Max (64, 160, 160, 3)\n",
      "2020-10-04 20:50:03 - Calibrator - INFO - Caching calibration data for future use: calibration.cache\n"
     ]
    },
    {
     "name": "stdout",
     "output_type": "stream",
     "text": [
      "Parsing ONNX model...\n",
      "Done parsing ONNX model.\n",
      "Building engine...\n",
      "Done building engine.\n"
     ]
    }
   ],
   "source": [
    "network_flags = 1 << (int)(trt.NetworkDefinitionCreationFlag.EXPLICIT_BATCH)\n",
    "\n",
    "with trt.Builder(TRT_LOGGER) as builder, \\\n",
    "        builder.create_network(network_flags) as network, \\\n",
    "        builder.create_builder_config() as config, \\\n",
    "        trt.OnnxParser(network, TRT_LOGGER) as parser:\n",
    "\n",
    "    config.max_workspace_size = 2**30 # 1GiB\n",
    "\n",
    "    config.set_flag(trt.BuilderFlag.INT8)\n",
    "\n",
    "    if not builder.platform_has_fast_int8:\n",
    "        TRT_LOGGER.warning(\"INT8 not supported on this platform.\")\n",
    "\n",
    "    config.int8_calibrator = _Calibrator()\n",
    "\n",
    "    print(\"Parsing ONNX model...\")\n",
    "    model_file = 'saved_model/mobilenetv2_ONNX/model.onnx'\n",
    "    # Fill network attributes with information by parsing model\n",
    "    with open(model_file, 'rb') as f:\n",
    "        if not parser.parse(f.read()):\n",
    "            print('ERROR: Failed to parse the ONNX file: {}'.format(model_file))\n",
    "            for error in range(parser.num_errors):\n",
    "                print(parser.get_error(error))\n",
    "            sys.exit(1)\n",
    "    print(\"Done parsing ONNX model.\")\n",
    "\n",
    "    # Display network info and check certain properties\n",
    "    check_network(network)\n",
    "\n",
    "    # Add optimization profiles\n",
    "    batch_sizes = [1, 8, 16, 32, 64]\n",
    "    inputs = [network.get_input(i) for i in range(network.num_inputs)]\n",
    "    opt_profiles = create_optimization_profiles(builder, inputs, batch_sizes)\n",
    "    add_profiles(config, inputs, opt_profiles)\n",
    "\n",
    "    print(\"Building engine...\")\n",
    "    with builder.build_engine(network, config) as engine:\n",
    "        with open('saved_model/mobilenetv2_ONNX/model.engine', 'wb') as f:\n",
    "            f.write(engine.serialize())\n",
    "        print(\"Done building engine.\")"
   ],
   "metadata": {
    "collapsed": false,
    "pycharm": {
     "name": "#%%\n"
    }
   }
  },
  {
   "cell_type": "code",
   "execution_count": 16,
   "outputs": [],
   "source": [],
   "metadata": {
    "collapsed": false,
    "pycharm": {
     "name": "#%%\n"
    }
   }
  }
 ],
 "metadata": {
  "kernelspec": {
   "display_name": "Python 3",
   "language": "python",
   "name": "python3"
  },
  "language_info": {
   "codemirror_mode": {
    "name": "ipython",
    "version": 2
   },
   "file_extension": ".py",
   "mimetype": "text/x-python",
   "name": "python",
   "nbconvert_exporter": "python",
   "pygments_lexer": "ipython2",
   "version": "2.7.6"
  }
 },
 "nbformat": 4,
 "nbformat_minor": 0
}