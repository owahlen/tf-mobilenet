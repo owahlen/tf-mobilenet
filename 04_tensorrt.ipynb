{
 "cells": [
  {
   "cell_type": "markdown",
   "source": [
    "## Convert the model to ONNX format"
   ],
   "metadata": {
    "collapsed": false,
    "pycharm": {
     "name": "#%% md\n"
    }
   }
  },
  {
   "cell_type": "code",
   "execution_count": 1,
   "metadata": {
    "collapsed": true
   },
   "outputs": [
    {
     "name": "stdout",
     "output_type": "stream",
     "text": [
      "2020-10-04 21:53:42.979341: I tensorflow/stream_executor/platform/default/dso_loader.cc:48] Successfully opened dynamic library libcudart.so.10.2\r\n",
      "2020-10-04 21:53:43,799 - WARNING - '--tag' not specified for saved_model. Using --tag serve\r\n",
      "2020-10-04 21:53:44.025912: I tensorflow/stream_executor/platform/default/dso_loader.cc:48] Successfully opened dynamic library libcuda.so.1\r\n",
      "2020-10-04 21:53:44.695914: I tensorflow/stream_executor/cuda/cuda_gpu_executor.cc:982] successful NUMA node read from SysFS had negative value (-1), but there must be at least one NUMA node, so returning NUMA node zero\r\n",
      "2020-10-04 21:53:44.696468: I tensorflow/core/common_runtime/gpu/gpu_device.cc:1716] Found device 0 with properties: \r\n",
      "pciBusID: 0000:42:00.0 name: GeForce RTX 2080 Ti computeCapability: 7.5\r\n",
      "coreClock: 1.65GHz coreCount: 68 deviceMemorySize: 10.76GiB deviceMemoryBandwidth: 573.69GiB/s\r\n",
      "2020-10-04 21:53:44.696492: I tensorflow/stream_executor/platform/default/dso_loader.cc:48] Successfully opened dynamic library libcudart.so.10.2\r\n",
      "2020-10-04 21:53:44.697685: I tensorflow/stream_executor/platform/default/dso_loader.cc:48] Successfully opened dynamic library libcublas.so.10\r\n",
      "2020-10-04 21:53:44.699034: I tensorflow/stream_executor/platform/default/dso_loader.cc:48] Successfully opened dynamic library libcufft.so.10\r\n",
      "2020-10-04 21:53:44.699213: I tensorflow/stream_executor/platform/default/dso_loader.cc:48] Successfully opened dynamic library libcurand.so.10\r\n",
      "2020-10-04 21:53:44.700485: I tensorflow/stream_executor/platform/default/dso_loader.cc:48] Successfully opened dynamic library libcusolver.so.10\r\n",
      "2020-10-04 21:53:44.701200: I tensorflow/stream_executor/platform/default/dso_loader.cc:48] Successfully opened dynamic library libcusparse.so.10\r\n",
      "2020-10-04 21:53:44.701305: I tensorflow/stream_executor/platform/default/dso_loader.cc:48] Successfully opened dynamic library libcudnn.so.8\r\n",
      "2020-10-04 21:53:44.701463: I tensorflow/stream_executor/cuda/cuda_gpu_executor.cc:982] successful NUMA node read from SysFS had negative value (-1), but there must be at least one NUMA node, so returning NUMA node zero\r\n",
      "2020-10-04 21:53:44.702083: I tensorflow/stream_executor/cuda/cuda_gpu_executor.cc:982] successful NUMA node read from SysFS had negative value (-1), but there must be at least one NUMA node, so returning NUMA node zero\r\n",
      "2020-10-04 21:53:44.702595: I tensorflow/core/common_runtime/gpu/gpu_device.cc:1858] Adding visible gpu devices: 0\r\n",
      "2020-10-04 21:53:44.732610: I tensorflow/core/platform/profile_utils/cpu_utils.cc:104] CPU Frequency: 3399710000 Hz\r\n",
      "2020-10-04 21:53:44.734087: I tensorflow/compiler/xla/service/service.cc:168] XLA service 0x563f45aa29c0 initialized for platform Host (this does not guarantee that XLA will be used). Devices:\r\n",
      "2020-10-04 21:53:44.734137: I tensorflow/compiler/xla/service/service.cc:176]   StreamExecutor device (0): Host, Default Version\r\n",
      "2020-10-04 21:53:44.734426: I tensorflow/stream_executor/cuda/cuda_gpu_executor.cc:982] successful NUMA node read from SysFS had negative value (-1), but there must be at least one NUMA node, so returning NUMA node zero\r\n",
      "2020-10-04 21:53:44.735331: I tensorflow/core/common_runtime/gpu/gpu_device.cc:1716] Found device 0 with properties: \r\n",
      "pciBusID: 0000:42:00.0 name: GeForce RTX 2080 Ti computeCapability: 7.5\r\n",
      "coreClock: 1.65GHz coreCount: 68 deviceMemorySize: 10.76GiB deviceMemoryBandwidth: 573.69GiB/s\r\n",
      "2020-10-04 21:53:44.735369: I tensorflow/stream_executor/platform/default/dso_loader.cc:48] Successfully opened dynamic library libcudart.so.10.2\r\n",
      "2020-10-04 21:53:44.735397: I tensorflow/stream_executor/platform/default/dso_loader.cc:48] Successfully opened dynamic library libcublas.so.10\r\n",
      "2020-10-04 21:53:44.735413: I tensorflow/stream_executor/platform/default/dso_loader.cc:48] Successfully opened dynamic library libcufft.so.10\r\n",
      "2020-10-04 21:53:44.735429: I tensorflow/stream_executor/platform/default/dso_loader.cc:48] Successfully opened dynamic library libcurand.so.10\r\n",
      "2020-10-04 21:53:44.735444: I tensorflow/stream_executor/platform/default/dso_loader.cc:48] Successfully opened dynamic library libcusolver.so.10\r\n",
      "2020-10-04 21:53:44.735459: I tensorflow/stream_executor/platform/default/dso_loader.cc:48] Successfully opened dynamic library libcusparse.so.10\r\n",
      "2020-10-04 21:53:44.735474: I tensorflow/stream_executor/platform/default/dso_loader.cc:48] Successfully opened dynamic library libcudnn.so.8\r\n",
      "2020-10-04 21:53:44.735551: I tensorflow/stream_executor/cuda/cuda_gpu_executor.cc:982] successful NUMA node read from SysFS had negative value (-1), but there must be at least one NUMA node, so returning NUMA node zero\r\n",
      "2020-10-04 21:53:44.736458: I tensorflow/stream_executor/cuda/cuda_gpu_executor.cc:982] successful NUMA node read from SysFS had negative value (-1), but there must be at least one NUMA node, so returning NUMA node zero\r\n",
      "2020-10-04 21:53:44.737276: I tensorflow/core/common_runtime/gpu/gpu_device.cc:1858] Adding visible gpu devices: 0\r\n",
      "2020-10-04 21:53:44.737312: I tensorflow/stream_executor/platform/default/dso_loader.cc:48] Successfully opened dynamic library libcudart.so.10.2\r\n",
      "2020-10-04 21:53:45.556084: I tensorflow/core/common_runtime/gpu/gpu_device.cc:1257] Device interconnect StreamExecutor with strength 1 edge matrix:\r\n",
      "2020-10-04 21:53:45.556141: I tensorflow/core/common_runtime/gpu/gpu_device.cc:1263]      0 \r\n",
      "2020-10-04 21:53:45.556155: I tensorflow/core/common_runtime/gpu/gpu_device.cc:1276] 0:   N \r\n",
      "2020-10-04 21:53:45.556489: I tensorflow/stream_executor/cuda/cuda_gpu_executor.cc:982] successful NUMA node read from SysFS had negative value (-1), but there must be at least one NUMA node, so returning NUMA node zero\r\n",
      "2020-10-04 21:53:45.557197: I tensorflow/stream_executor/cuda/cuda_gpu_executor.cc:982] successful NUMA node read from SysFS had negative value (-1), but there must be at least one NUMA node, so returning NUMA node zero\r\n",
      "2020-10-04 21:53:45.557826: I tensorflow/stream_executor/cuda/cuda_gpu_executor.cc:982] successful NUMA node read from SysFS had negative value (-1), but there must be at least one NUMA node, so returning NUMA node zero\r\n",
      "2020-10-04 21:53:45.558398: I tensorflow/core/common_runtime/gpu/gpu_device.cc:1402] Created TensorFlow device (/job:localhost/replica:0/task:0/device:GPU:0 with 10066 MB memory) -> physical GPU (device: 0, name: GeForce RTX 2080 Ti, pci bus id: 0000:42:00.0, compute capability: 7.5)\r\n",
      "2020-10-04 21:53:45.560535: I tensorflow/compiler/xla/service/service.cc:168] XLA service 0x563f5ab7cee0 initialized for platform CUDA (this does not guarantee that XLA will be used). Devices:\r\n",
      "2020-10-04 21:53:45.560559: I tensorflow/compiler/xla/service/service.cc:176]   StreamExecutor device (0): GeForce RTX 2080 Ti, Compute Capability 7.5\r\n",
      "2020-10-04 21:53:50,119 - INFO - Signatures found in model: [serving_default].\r\n",
      "2020-10-04 21:53:50,119 - WARNING - '--signature_def' not specified, using first signature: serving_default\r\n",
      "2020-10-04 21:53:50.134025: I tensorflow/stream_executor/cuda/cuda_gpu_executor.cc:982] successful NUMA node read from SysFS had negative value (-1), but there must be at least one NUMA node, so returning NUMA node zero\r\n",
      "2020-10-04 21:53:50.134320: I tensorflow/core/grappler/devices.cc:69] Number of eligible GPUs (core count >= 8, compute capability >= 0.0): 1\r\n",
      "2020-10-04 21:53:50.134438: I tensorflow/core/grappler/clusters/single_machine.cc:356] Starting new session\r\n",
      "2020-10-04 21:53:50.134905: I tensorflow/stream_executor/cuda/cuda_gpu_executor.cc:982] successful NUMA node read from SysFS had negative value (-1), but there must be at least one NUMA node, so returning NUMA node zero\r\n",
      "2020-10-04 21:53:50.135141: I tensorflow/core/common_runtime/gpu/gpu_device.cc:1716] Found device 0 with properties: \r\n",
      "pciBusID: 0000:42:00.0 name: GeForce RTX 2080 Ti computeCapability: 7.5\r\n",
      "coreClock: 1.65GHz coreCount: 68 deviceMemorySize: 10.76GiB deviceMemoryBandwidth: 573.69GiB/s\r\n",
      "2020-10-04 21:53:50.135170: I tensorflow/stream_executor/platform/default/dso_loader.cc:48] Successfully opened dynamic library libcudart.so.10.2\r\n",
      "2020-10-04 21:53:50.135191: I tensorflow/stream_executor/platform/default/dso_loader.cc:48] Successfully opened dynamic library libcublas.so.10\r\n",
      "2020-10-04 21:53:50.135201: I tensorflow/stream_executor/platform/default/dso_loader.cc:48] Successfully opened dynamic library libcufft.so.10\r\n",
      "2020-10-04 21:53:50.135210: I tensorflow/stream_executor/platform/default/dso_loader.cc:48] Successfully opened dynamic library libcurand.so.10\r\n",
      "2020-10-04 21:53:50.135219: I tensorflow/stream_executor/platform/default/dso_loader.cc:48] Successfully opened dynamic library libcusolver.so.10\r\n",
      "2020-10-04 21:53:50.135227: I tensorflow/stream_executor/platform/default/dso_loader.cc:48] Successfully opened dynamic library libcusparse.so.10\r\n",
      "2020-10-04 21:53:50.135237: I tensorflow/stream_executor/platform/default/dso_loader.cc:48] Successfully opened dynamic library libcudnn.so.8\r\n",
      "2020-10-04 21:53:50.135280: I tensorflow/stream_executor/cuda/cuda_gpu_executor.cc:982] successful NUMA node read from SysFS had negative value (-1), but there must be at least one NUMA node, so returning NUMA node zero\r\n",
      "2020-10-04 21:53:50.135536: I tensorflow/stream_executor/cuda/cuda_gpu_executor.cc:982] successful NUMA node read from SysFS had negative value (-1), but there must be at least one NUMA node, so returning NUMA node zero\r\n",
      "2020-10-04 21:53:50.135753: I tensorflow/core/common_runtime/gpu/gpu_device.cc:1858] Adding visible gpu devices: 0\r\n",
      "2020-10-04 21:53:50.135785: I tensorflow/core/common_runtime/gpu/gpu_device.cc:1257] Device interconnect StreamExecutor with strength 1 edge matrix:\r\n",
      "2020-10-04 21:53:50.135792: I tensorflow/core/common_runtime/gpu/gpu_device.cc:1263]      0 \r\n",
      "2020-10-04 21:53:50.135797: I tensorflow/core/common_runtime/gpu/gpu_device.cc:1276] 0:   N \r\n",
      "2020-10-04 21:53:50.135868: I tensorflow/stream_executor/cuda/cuda_gpu_executor.cc:982] successful NUMA node read from SysFS had negative value (-1), but there must be at least one NUMA node, so returning NUMA node zero\r\n",
      "2020-10-04 21:53:50.136126: I tensorflow/stream_executor/cuda/cuda_gpu_executor.cc:982] successful NUMA node read from SysFS had negative value (-1), but there must be at least one NUMA node, so returning NUMA node zero\r\n",
      "2020-10-04 21:53:50.136353: I tensorflow/core/common_runtime/gpu/gpu_device.cc:1402] Created TensorFlow device (/job:localhost/replica:0/task:0/device:GPU:0 with 10066 MB memory) -> physical GPU (device: 0, name: GeForce RTX 2080 Ti, pci bus id: 0000:42:00.0, compute capability: 7.5)\r\n",
      "2020-10-04 21:53:50.175530: I tensorflow/core/grappler/optimizers/meta_optimizer.cc:816] Optimization results for grappler item: graph_to_optimize\r\n",
      "2020-10-04 21:53:50.175578: I tensorflow/core/grappler/optimizers/meta_optimizer.cc:818]   function_optimizer: Graph size after: 989 nodes (724), 964 edges (699), time = 17.877ms.\r\n",
      "2020-10-04 21:53:50.175586: I tensorflow/core/grappler/optimizers/meta_optimizer.cc:818]   function_optimizer: function_optimizer did nothing. time = 0.419ms.\r\n",
      "2020-10-04 21:53:51.024132: I tensorflow/stream_executor/cuda/cuda_gpu_executor.cc:982] successful NUMA node read from SysFS had negative value (-1), but there must be at least one NUMA node, so returning NUMA node zero\r\n",
      "2020-10-04 21:53:51.024470: I tensorflow/core/common_runtime/gpu/gpu_device.cc:1716] Found device 0 with properties: \r\n",
      "pciBusID: 0000:42:00.0 name: GeForce RTX 2080 Ti computeCapability: 7.5\r\n",
      "coreClock: 1.65GHz coreCount: 68 deviceMemorySize: 10.76GiB deviceMemoryBandwidth: 573.69GiB/s\r\n",
      "2020-10-04 21:53:51.024503: I tensorflow/stream_executor/platform/default/dso_loader.cc:48] Successfully opened dynamic library libcudart.so.10.2\r\n",
      "2020-10-04 21:53:51.024525: I tensorflow/stream_executor/platform/default/dso_loader.cc:48] Successfully opened dynamic library libcublas.so.10\r\n",
      "2020-10-04 21:53:51.024535: I tensorflow/stream_executor/platform/default/dso_loader.cc:48] Successfully opened dynamic library libcufft.so.10\r\n",
      "2020-10-04 21:53:51.024544: I tensorflow/stream_executor/platform/default/dso_loader.cc:48] Successfully opened dynamic library libcurand.so.10\r\n",
      "2020-10-04 21:53:51.024553: I tensorflow/stream_executor/platform/default/dso_loader.cc:48] Successfully opened dynamic library libcusolver.so.10\r\n",
      "2020-10-04 21:53:51.024562: I tensorflow/stream_executor/platform/default/dso_loader.cc:48] Successfully opened dynamic library libcusparse.so.10\r\n",
      "2020-10-04 21:53:51.024571: I tensorflow/stream_executor/platform/default/dso_loader.cc:48] Successfully opened dynamic library libcudnn.so.8\r\n",
      "2020-10-04 21:53:51.024617: I tensorflow/stream_executor/cuda/cuda_gpu_executor.cc:982] successful NUMA node read from SysFS had negative value (-1), but there must be at least one NUMA node, so returning NUMA node zero\r\n",
      "2020-10-04 21:53:51.024872: I tensorflow/stream_executor/cuda/cuda_gpu_executor.cc:982] successful NUMA node read from SysFS had negative value (-1), but there must be at least one NUMA node, so returning NUMA node zero\r\n",
      "2020-10-04 21:53:51.025090: I tensorflow/core/common_runtime/gpu/gpu_device.cc:1858] Adding visible gpu devices: 0\r\n",
      "2020-10-04 21:53:51.025123: I tensorflow/core/common_runtime/gpu/gpu_device.cc:1257] Device interconnect StreamExecutor with strength 1 edge matrix:\r\n",
      "2020-10-04 21:53:51.025130: I tensorflow/core/common_runtime/gpu/gpu_device.cc:1263]      0 \r\n",
      "2020-10-04 21:53:51.025136: I tensorflow/core/common_runtime/gpu/gpu_device.cc:1276] 0:   N \r\n",
      "2020-10-04 21:53:51.025207: I tensorflow/stream_executor/cuda/cuda_gpu_executor.cc:982] successful NUMA node read from SysFS had negative value (-1), but there must be at least one NUMA node, so returning NUMA node zero\r\n",
      "2020-10-04 21:53:51.025466: I tensorflow/stream_executor/cuda/cuda_gpu_executor.cc:982] successful NUMA node read from SysFS had negative value (-1), but there must be at least one NUMA node, so returning NUMA node zero\r\n",
      "2020-10-04 21:53:51.025688: I tensorflow/core/common_runtime/gpu/gpu_device.cc:1402] Created TensorFlow device (/job:localhost/replica:0/task:0/device:GPU:0 with 10066 MB memory) -> physical GPU (device: 0, name: GeForce RTX 2080 Ti, pci bus id: 0000:42:00.0, compute capability: 7.5)\r\n",
      "WARNING:tensorflow:From /home/owahlen/anaconda3/envs/trt2/lib/python3.7/site-packages/tf2onnx/tf_loader.py:368: extract_sub_graph (from tensorflow.python.framework.graph_util_impl) is deprecated and will be removed in a future version.\r\n",
      "Instructions for updating:\r\n",
      "Use `tf.compat.v1.graph_util.extract_sub_graph`\r\n",
      "2020-10-04 21:53:51,133 - WARNING - From /home/owahlen/anaconda3/envs/trt2/lib/python3.7/site-packages/tf2onnx/tf_loader.py:368: extract_sub_graph (from tensorflow.python.framework.graph_util_impl) is deprecated and will be removed in a future version.\r\n",
      "Instructions for updating:\r\n",
      "Use `tf.compat.v1.graph_util.extract_sub_graph`\r\n",
      "2020-10-04 21:53:51.164143: I tensorflow/stream_executor/cuda/cuda_gpu_executor.cc:982] successful NUMA node read from SysFS had negative value (-1), but there must be at least one NUMA node, so returning NUMA node zero\r\n",
      "2020-10-04 21:53:51.164460: I tensorflow/core/grappler/devices.cc:69] Number of eligible GPUs (core count >= 8, compute capability >= 0.0): 1\r\n",
      "2020-10-04 21:53:51.164610: I tensorflow/core/grappler/clusters/single_machine.cc:356] Starting new session\r\n",
      "2020-10-04 21:53:51.164989: I tensorflow/stream_executor/cuda/cuda_gpu_executor.cc:982] successful NUMA node read from SysFS had negative value (-1), but there must be at least one NUMA node, so returning NUMA node zero\r\n",
      "2020-10-04 21:53:51.165225: I tensorflow/core/common_runtime/gpu/gpu_device.cc:1716] Found device 0 with properties: \r\n",
      "pciBusID: 0000:42:00.0 name: GeForce RTX 2080 Ti computeCapability: 7.5\r\n",
      "coreClock: 1.65GHz coreCount: 68 deviceMemorySize: 10.76GiB deviceMemoryBandwidth: 573.69GiB/s\r\n",
      "2020-10-04 21:53:51.165254: I tensorflow/stream_executor/platform/default/dso_loader.cc:48] Successfully opened dynamic library libcudart.so.10.2\r\n",
      "2020-10-04 21:53:51.165275: I tensorflow/stream_executor/platform/default/dso_loader.cc:48] Successfully opened dynamic library libcublas.so.10\r\n",
      "2020-10-04 21:53:51.165285: I tensorflow/stream_executor/platform/default/dso_loader.cc:48] Successfully opened dynamic library libcufft.so.10\r\n",
      "2020-10-04 21:53:51.165293: I tensorflow/stream_executor/platform/default/dso_loader.cc:48] Successfully opened dynamic library libcurand.so.10\r\n",
      "2020-10-04 21:53:51.165302: I tensorflow/stream_executor/platform/default/dso_loader.cc:48] Successfully opened dynamic library libcusolver.so.10\r\n",
      "2020-10-04 21:53:51.165311: I tensorflow/stream_executor/platform/default/dso_loader.cc:48] Successfully opened dynamic library libcusparse.so.10\r\n",
      "2020-10-04 21:53:51.165320: I tensorflow/stream_executor/platform/default/dso_loader.cc:48] Successfully opened dynamic library libcudnn.so.8\r\n",
      "2020-10-04 21:53:51.165364: I tensorflow/stream_executor/cuda/cuda_gpu_executor.cc:982] successful NUMA node read from SysFS had negative value (-1), but there must be at least one NUMA node, so returning NUMA node zero\r\n",
      "2020-10-04 21:53:51.165618: I tensorflow/stream_executor/cuda/cuda_gpu_executor.cc:982] successful NUMA node read from SysFS had negative value (-1), but there must be at least one NUMA node, so returning NUMA node zero\r\n",
      "2020-10-04 21:53:51.165839: I tensorflow/core/common_runtime/gpu/gpu_device.cc:1858] Adding visible gpu devices: 0\r\n",
      "2020-10-04 21:53:51.165870: I tensorflow/core/common_runtime/gpu/gpu_device.cc:1257] Device interconnect StreamExecutor with strength 1 edge matrix:\r\n",
      "2020-10-04 21:53:51.165877: I tensorflow/core/common_runtime/gpu/gpu_device.cc:1263]      0 \r\n",
      "2020-10-04 21:53:51.165883: I tensorflow/core/common_runtime/gpu/gpu_device.cc:1276] 0:   N \r\n",
      "2020-10-04 21:53:51.165954: I tensorflow/stream_executor/cuda/cuda_gpu_executor.cc:982] successful NUMA node read from SysFS had negative value (-1), but there must be at least one NUMA node, so returning NUMA node zero\r\n",
      "2020-10-04 21:53:51.166214: I tensorflow/stream_executor/cuda/cuda_gpu_executor.cc:982] successful NUMA node read from SysFS had negative value (-1), but there must be at least one NUMA node, so returning NUMA node zero\r\n",
      "2020-10-04 21:53:51.166442: I tensorflow/core/common_runtime/gpu/gpu_device.cc:1402] Created TensorFlow device (/job:localhost/replica:0/task:0/device:GPU:0 with 10066 MB memory) -> physical GPU (device: 0, name: GeForce RTX 2080 Ti, pci bus id: 0000:42:00.0, compute capability: 7.5)\r\n",
      "2020-10-04 21:53:51.271308: I tensorflow/core/grappler/optimizers/meta_optimizer.cc:816] Optimization results for grappler item: graph_to_optimize\r\n",
      "2020-10-04 21:53:51.271357: I tensorflow/core/grappler/optimizers/meta_optimizer.cc:818]   constant_folding: Graph size after: 431 nodes (-524), 440 edges (-524), time = 58.099ms.\r\n",
      "2020-10-04 21:53:51.271362: I tensorflow/core/grappler/optimizers/meta_optimizer.cc:818]   function_optimizer: function_optimizer did nothing. time = 0.982ms.\r\n",
      "2020-10-04 21:53:51.271366: I tensorflow/core/grappler/optimizers/meta_optimizer.cc:818]   constant_folding: Graph size after: 431 nodes (0), 440 edges (0), time = 12.951ms.\r\n",
      "2020-10-04 21:53:51.271370: I tensorflow/core/grappler/optimizers/meta_optimizer.cc:818]   function_optimizer: function_optimizer did nothing. time = 0.645ms.\r\n",
      "2020-10-04 21:53:51.422907: I tensorflow/stream_executor/cuda/cuda_gpu_executor.cc:982] successful NUMA node read from SysFS had negative value (-1), but there must be at least one NUMA node, so returning NUMA node zero\r\n",
      "2020-10-04 21:53:51.423232: I tensorflow/core/common_runtime/gpu/gpu_device.cc:1716] Found device 0 with properties: \r\n",
      "pciBusID: 0000:42:00.0 name: GeForce RTX 2080 Ti computeCapability: 7.5\r\n",
      "coreClock: 1.65GHz coreCount: 68 deviceMemorySize: 10.76GiB deviceMemoryBandwidth: 573.69GiB/s\r\n",
      "2020-10-04 21:53:51.423264: I tensorflow/stream_executor/platform/default/dso_loader.cc:48] Successfully opened dynamic library libcudart.so.10.2\r\n",
      "2020-10-04 21:53:51.423285: I tensorflow/stream_executor/platform/default/dso_loader.cc:48] Successfully opened dynamic library libcublas.so.10\r\n",
      "2020-10-04 21:53:51.423295: I tensorflow/stream_executor/platform/default/dso_loader.cc:48] Successfully opened dynamic library libcufft.so.10\r\n",
      "2020-10-04 21:53:51.423304: I tensorflow/stream_executor/platform/default/dso_loader.cc:48] Successfully opened dynamic library libcurand.so.10\r\n",
      "2020-10-04 21:53:51.423313: I tensorflow/stream_executor/platform/default/dso_loader.cc:48] Successfully opened dynamic library libcusolver.so.10\r\n",
      "2020-10-04 21:53:51.423322: I tensorflow/stream_executor/platform/default/dso_loader.cc:48] Successfully opened dynamic library libcusparse.so.10\r\n",
      "2020-10-04 21:53:51.423331: I tensorflow/stream_executor/platform/default/dso_loader.cc:48] Successfully opened dynamic library libcudnn.so.8\r\n",
      "2020-10-04 21:53:51.423376: I tensorflow/stream_executor/cuda/cuda_gpu_executor.cc:982] successful NUMA node read from SysFS had negative value (-1), but there must be at least one NUMA node, so returning NUMA node zero\r\n",
      "2020-10-04 21:53:51.423634: I tensorflow/stream_executor/cuda/cuda_gpu_executor.cc:982] successful NUMA node read from SysFS had negative value (-1), but there must be at least one NUMA node, so returning NUMA node zero\r\n",
      "2020-10-04 21:53:51.423852: I tensorflow/core/common_runtime/gpu/gpu_device.cc:1858] Adding visible gpu devices: 0\r\n",
      "2020-10-04 21:53:51.423883: I tensorflow/core/common_runtime/gpu/gpu_device.cc:1257] Device interconnect StreamExecutor with strength 1 edge matrix:\r\n",
      "2020-10-04 21:53:51.423890: I tensorflow/core/common_runtime/gpu/gpu_device.cc:1263]      0 \r\n",
      "2020-10-04 21:53:51.423895: I tensorflow/core/common_runtime/gpu/gpu_device.cc:1276] 0:   N \r\n",
      "2020-10-04 21:53:51.423968: I tensorflow/stream_executor/cuda/cuda_gpu_executor.cc:982] successful NUMA node read from SysFS had negative value (-1), but there must be at least one NUMA node, so returning NUMA node zero\r\n",
      "2020-10-04 21:53:51.424227: I tensorflow/stream_executor/cuda/cuda_gpu_executor.cc:982] successful NUMA node read from SysFS had negative value (-1), but there must be at least one NUMA node, so returning NUMA node zero\r\n",
      "2020-10-04 21:53:51.424465: I tensorflow/core/common_runtime/gpu/gpu_device.cc:1402] Created TensorFlow device (/job:localhost/replica:0/task:0/device:GPU:0 with 10066 MB memory) -> physical GPU (device: 0, name: GeForce RTX 2080 Ti, pci bus id: 0000:42:00.0, compute capability: 7.5)\r\n",
      "2020-10-04 21:53:51,424 - INFO - Using tensorflow=2.3.1, onnx=1.7.0, tf2onnx=1.6.3/d4abc8\r\n",
      "2020-10-04 21:53:51,424 - INFO - Using opset <onnx, 11>\r\n",
      "2020-10-04 21:53:53,676 - INFO - Optimizing ONNX model\r\n",
      "2020-10-04 21:53:57,847 - INFO - After optimization: BatchNormalization -45 (52->7), Cast -4 (4->0), Const -228 (358->130), Identity -5 (5->0), Reshape -21 (21->0), Transpose -227 (229->2)\r\n",
      "2020-10-04 21:53:57,861 - INFO - \r\n",
      "2020-10-04 21:53:57,861 - INFO - Successfully converted TensorFlow model saved_model/mobilenetv2 to ONNX\r\n",
      "2020-10-04 21:53:57,869 - INFO - ONNX model is saved at saved_model/mobilenetv2_ONNX/model.onnx\r\n"
     ]
    }
   ],
   "source": [
    "!python3 -m tf2onnx.convert --opset 11 --fold_const --saved-model saved_model/mobilenetv2 --output saved_model/mobilenetv2_ONNX/model.onnx"
   ]
  },
  {
   "cell_type": "markdown",
   "source": [
    "## Create a tensorrt engine"
   ],
   "metadata": {
    "collapsed": false,
    "pycharm": {
     "name": "#%% md\n"
    }
   }
  },
  {
   "cell_type": "code",
   "execution_count": 2,
   "outputs": [],
   "source": [
    "import logging\n",
    "\n",
    "import sys\n",
    "import tensorrt as trt\n",
    "\n",
    "from Calibrator import _Calibrator"
   ],
   "metadata": {
    "collapsed": false,
    "pycharm": {
     "name": "#%%\n"
    }
   }
  },
  {
   "cell_type": "code",
   "execution_count": 3,
   "outputs": [],
   "source": [
    "TRT_LOGGER = trt.Logger(trt.Logger.WARNING)\n",
    "logging.basicConfig(level=logging.DEBUG,\n",
    "                    format=\"%(asctime)s - %(name)s - %(levelname)s - %(message)s\",\n",
    "                    datefmt=\"%Y-%m-%d %H:%M:%S\")\n",
    "logger = logging.getLogger(__name__)"
   ],
   "metadata": {
    "collapsed": false,
    "pycharm": {
     "name": "#%%\n"
    }
   }
  },
  {
   "cell_type": "code",
   "execution_count": 4,
   "outputs": [],
   "source": [
    "def add_profiles(config, inputs, opt_profiles):\n",
    "    logger.debug(\"=== Optimization Profiles ===\")\n",
    "    for i, profile in enumerate(opt_profiles):\n",
    "        for inp in inputs:\n",
    "            _min, _opt, _max = profile.get_shape(inp.name)\n",
    "            logger.debug(\"{} - OptProfile {} - Min {} Opt {} Max {}\".format(inp.name, i, _min, _opt, _max))\n",
    "        config.add_optimization_profile(profile)"
   ],
   "metadata": {
    "collapsed": false,
    "pycharm": {
     "name": "#%%\n"
    }
   }
  },
  {
   "cell_type": "code",
   "execution_count": 5,
   "outputs": [],
   "source": [
    "def mark_outputs(network):\n",
    "    # Mark last layer's outputs if not already marked\n",
    "    # NOTE: This may not be correct in all cases\n",
    "    last_layer = network.get_layer(network.num_layers-1)\n",
    "    if not last_layer.num_outputs:\n",
    "        logger.error(\"Last layer contains no outputs.\")\n",
    "        return\n",
    "\n",
    "    for i in range(last_layer.num_outputs):\n",
    "        network.mark_output(last_layer.get_output(i))"
   ],
   "metadata": {
    "collapsed": false,
    "pycharm": {
     "name": "#%%\n"
    }
   }
  },
  {
   "cell_type": "code",
   "execution_count": 6,
   "outputs": [],
   "source": [
    "def check_network(network):\n",
    "    if not network.num_outputs:\n",
    "        logger.warning(\"No output nodes found, marking last layer's outputs as network outputs. Correct this if wrong.\")\n",
    "        mark_outputs(network)\n",
    "\n",
    "    inputs = [network.get_input(i) for i in range(network.num_inputs)]\n",
    "    outputs = [network.get_output(i) for i in range(network.num_outputs)]\n",
    "    max_len = max([len(inp.name) for inp in inputs] + [len(out.name) for out in outputs])\n",
    "\n",
    "    logger.debug(\"=== Network Description ===\")\n",
    "    for i, inp in enumerate(inputs):\n",
    "        logger.debug(\"Input  {0} | Name: {1:{2}} | Shape: {3}\".format(i, inp.name, max_len, inp.shape))\n",
    "    for i, out in enumerate(outputs):\n",
    "        logger.debug(\"Output {0} | Name: {1:{2}} | Shape: {3}\".format(i, out.name, max_len, out.shape))"
   ],
   "metadata": {
    "collapsed": false,
    "pycharm": {
     "name": "#%%\n"
    }
   }
  },
  {
   "cell_type": "code",
   "execution_count": 7,
   "outputs": [],
   "source": [
    "def create_optimization_profiles(builder, inputs, batch_sizes = None ):\n",
    "    # Check if all inputs are fixed explicit batch to create a single profile and avoid duplicates\n",
    "    if batch_sizes is None:\n",
    "        batch_sizes = [1,8,16,32,64]\n",
    "\n",
    "    if all([inp.shape[0] > -1 for inp in inputs]):\n",
    "        profile = builder.create_optimization_profile()\n",
    "        for inp in inputs:\n",
    "            fbs, shape = inp.shape[0], inp.shape[1:]\n",
    "            profile.set_shape(inp.name, min=(fbs, *shape), opt=(fbs, *shape), max=(fbs, *shape))\n",
    "            return [profile]\n",
    "\n",
    "    # Otherwise for mixed fixed+dynamic explicit batch inputs, create several profiles\n",
    "    profiles = {}\n",
    "    for bs in batch_sizes:\n",
    "        if not profiles.get(bs):\n",
    "            profiles[bs] = builder.create_optimization_profile()\n",
    "\n",
    "        for inp in inputs:\n",
    "            shape = inp.shape[1:]\n",
    "            # Check if fixed explicit batch\n",
    "            if inp.shape[0] > -1:\n",
    "                bs = inp.shape[0]\n",
    "\n",
    "            profiles[bs].set_shape(inp.name, min=(bs, *shape), opt=(bs, *shape), max=(bs, *shape))\n",
    "\n",
    "    return list(profiles.values())"
   ],
   "metadata": {
    "collapsed": false,
    "pycharm": {
     "name": "#%%\n"
    }
   }
  },
  {
   "cell_type": "code",
   "execution_count": 8,
   "outputs": [
    {
     "name": "stderr",
     "output_type": "stream",
     "text": [
      "2020-10-04 21:54:01 - __main__ - DEBUG - === Network Description ===\n",
      "2020-10-04 21:54:01 - __main__ - DEBUG - Input  0 | Name: image:0    | Shape: (-1, 160, 160, 3)\n",
      "2020-10-04 21:54:01 - __main__ - DEBUG - Output 0 | Name: Identity:0 | Shape: (-1, -1)\n",
      "2020-10-04 21:54:01 - __main__ - DEBUG - === Optimization Profiles ===\n",
      "2020-10-04 21:54:01 - __main__ - DEBUG - image:0 - OptProfile 0 - Min (1, 160, 160, 3) Opt (1, 160, 160, 3) Max (1, 160, 160, 3)\n",
      "2020-10-04 21:54:01 - Calibrator - INFO - Using calibration cache to save time: calibration.cache\n",
      "2020-10-04 21:54:01 - Calibrator - INFO - Using calibration cache to save time: calibration.cache\n"
     ]
    },
    {
     "name": "stdout",
     "output_type": "stream",
     "text": [
      "Parsing ONNX model...\n",
      "Done parsing ONNX model.\n",
      "Building engine...\n",
      "Done building engine.\n"
     ]
    }
   ],
   "source": [
    "network_flags = 1 << (int)(trt.NetworkDefinitionCreationFlag.EXPLICIT_BATCH)\n",
    "\n",
    "with trt.Builder(TRT_LOGGER) as builder, \\\n",
    "        builder.create_network(network_flags) as network, \\\n",
    "        builder.create_builder_config() as config, \\\n",
    "        trt.OnnxParser(network, TRT_LOGGER) as parser:\n",
    "\n",
    "    config.max_workspace_size = 2**30 # 1GiB\n",
    "\n",
    "    config.set_flag(trt.BuilderFlag.INT8)\n",
    "    config.set_flag(trt.BuilderFlag.FP16)\n",
    "\n",
    "    if not builder.platform_has_fast_int8:\n",
    "        print(\"INT8 not supported on this platform.\")\n",
    "\n",
    "    config.int8_calibrator = _Calibrator()\n",
    "\n",
    "    print(\"Parsing ONNX model...\")\n",
    "    model_file = 'saved_model/mobilenetv2_ONNX/model.onnx'\n",
    "    # Fill network attributes with information by parsing model\n",
    "    with open(model_file, 'rb') as f:\n",
    "        if not parser.parse(f.read()):\n",
    "            print('ERROR: Failed to parse the ONNX file: {}'.format(model_file))\n",
    "            for error in range(parser.num_errors):\n",
    "                print(parser.get_error(error))\n",
    "            sys.exit(1)\n",
    "    print(\"Done parsing ONNX model.\")\n",
    "\n",
    "    # Display network info and check certain properties\n",
    "    check_network(network)\n",
    "\n",
    "    # Add optimization profiles\n",
    "    # batch_sizes = [1, 8, 16, 32, 64]\n",
    "    batch_sizes = [1]\n",
    "    inputs = [network.get_input(i) for i in range(network.num_inputs)]\n",
    "    opt_profiles = create_optimization_profiles(builder, inputs, batch_sizes)\n",
    "    add_profiles(config, inputs, opt_profiles)\n",
    "\n",
    "    print(\"Building engine...\")\n",
    "    with builder.build_engine(network, config) as engine:\n",
    "        with open('saved_model/mobilenetv2_ONNX/model.engine', 'wb') as f:\n",
    "            f.write(engine.serialize())\n",
    "        print(\"Done building engine.\")"
   ],
   "metadata": {
    "collapsed": false,
    "pycharm": {
     "name": "#%%\n"
    }
   }
  },
  {
   "cell_type": "code",
   "execution_count": 8,
   "outputs": [],
   "source": [],
   "metadata": {
    "collapsed": false,
    "pycharm": {
     "name": "#%%\n"
    }
   }
  }
 ],
 "metadata": {
  "kernelspec": {
   "display_name": "Python 3",
   "language": "python",
   "name": "python3"
  },
  "language_info": {
   "codemirror_mode": {
    "name": "ipython",
    "version": 2
   },
   "file_extension": ".py",
   "mimetype": "text/x-python",
   "name": "python",
   "nbconvert_exporter": "python",
   "pygments_lexer": "ipython2",
   "version": "2.7.6"
  }
 },
 "nbformat": 4,
 "nbformat_minor": 0
}