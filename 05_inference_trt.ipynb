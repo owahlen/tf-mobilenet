{
 "cells": [
  {
   "cell_type": "code",
   "source": [
    "import time\n",
    "import common\n",
    "import tensorflow as tf\n",
    "import tensorrt as trt\n",
    "import tensorflow_datasets as tfds\n",
    "TRT_LOGGER = trt.Logger(trt.Logger.WARNING)"
   ],
   "metadata": {
    "collapsed": false,
    "pycharm": {
     "name": "#%%\n"
    }
   },
   "execution_count": 1,
   "outputs": []
  },
  {
   "cell_type": "markdown",
   "source": [
    "Load the TRT engine and do inference"
   ],
   "metadata": {
    "collapsed": false
   }
  },
  {
   "cell_type": "code",
   "execution_count": 2,
   "outputs": [],
   "source": [
    "tfds.disable_progress_bar()\n",
    "ds, metadata = tfds.load(\n",
    "    'cats_vs_dogs',\n",
    "    split='train',\n",
    "    with_info=True,\n",
    "    as_supervised=True)\n",
    "get_label_name = metadata.features['label'].int2str\n",
    "decode_prediction = lambda x: 1 if x>=0 else 0\n"
   ],
   "metadata": {
    "collapsed": false,
    "pycharm": {
     "name": "#%%\n"
    }
   }
  },
  {
   "cell_type": "code",
   "execution_count": 3,
   "metadata": {
    "collapsed": true
   },
   "outputs": [
    {
     "name": "stdout",
     "output_type": "stream",
     "text": [
      "predicted 1000 images with accuracy of 99.00% with a rate of 227.98 images/s\n"
     ]
    }
   ],
   "source": [
    "with open('saved_model/mobilenetv2_ONNX/model.engine', 'rb') as f, \\\n",
    "        trt.Runtime(TRT_LOGGER) as runtime:\n",
    "    with runtime.deserialize_cuda_engine(f.read()) as engine, \\\n",
    "            engine.create_execution_context() as context:\n",
    "        inputs, outputs, bindings, stream = common.allocate_buffers(engine)\n",
    "\n",
    "        n_predictions = 0\n",
    "        n_correct_predictions = 0\n",
    "        start_time = time.time()\n",
    "        for image, label in ds.take(1000):\n",
    "            x = tf.cast(image, tf.float32)\n",
    "            x = (x/127.5)-1\n",
    "            x = tf.image.resize(x, (160,160))\n",
    "            x = tf.expand_dims(x, axis=0)\n",
    "            inputs[0].host = x\n",
    "\n",
    "            preds =  common.do_inference_v2(context, bindings=bindings, inputs=inputs, outputs=outputs, stream=stream)\n",
    "            n_predictions += 1\n",
    "            prediction = preds[0][0] # only process first object at first batch index\n",
    "            decoded_pred = decode_prediction(prediction)\n",
    "            correct_prediction = label == decoded_pred\n",
    "            if correct_prediction:\n",
    "                n_correct_predictions += 1\n",
    "        elapsed_time = time.time() - start_time\n",
    "        accuracy = n_correct_predictions / n_predictions\n",
    "        print('predicted {} images with accuracy of {:.2f}% with a rate of {:.2f} images/s'.format(n_predictions, accuracy * 100, n_predictions/elapsed_time))"
   ]
  }
 ],
 "metadata": {
  "kernelspec": {
   "display_name": "Python 3",
   "language": "python",
   "name": "python3"
  },
  "language_info": {
   "codemirror_mode": {
    "name": "ipython",
    "version": 2
   },
   "file_extension": ".py",
   "mimetype": "text/x-python",
   "name": "python",
   "nbconvert_exporter": "python",
   "pygments_lexer": "ipython2",
   "version": "2.7.6"
  }
 },
 "nbformat": 4,
 "nbformat_minor": 0
}